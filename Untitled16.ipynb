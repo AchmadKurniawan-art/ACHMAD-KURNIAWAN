{
  "nbformat": 4,
  "nbformat_minor": 0,
  "metadata": {
    "colab": {
      "provenance": []
    },
    "kernelspec": {
      "name": "python3",
      "display_name": "Python 3"
    },
    "language_info": {
      "name": "python"
    }
  },
  "cells": [
    {
      "cell_type": "code",
      "execution_count": null,
      "metadata": {
        "colab": {
          "base_uri": "https://localhost:8080/"
        },
        "id": "vFDjdBnZ9x9V",
        "outputId": "a55c64f6-a12a-4279-9952-86e93aa7330d"
      },
      "outputs": [
        {
          "output_type": "stream",
          "name": "stdout",
          "text": [
            "Masukkan elemen list: 7 6 5 3 1\n",
            "Masukkan elemen yang dicari: 3\n",
            "List setelah disortir: [1, 3, 5, 6, 7]\n",
            "Elemen ditemukan di indeks 1\n"
          ]
        }
      ],
      "source": [
        "def bubble_sort(arr):\n",
        "    for i in range(len(arr)):\n",
        "        for j in range(len(arr) - i - 1):\n",
        "            if arr[j] > arr[j + 1]:\n",
        "                arr[j], arr[j + 1] = arr[j + 1], arr[j]\n",
        "    return arr\n",
        "\n",
        "def binary_search(arr, target):\n",
        "    low, high = 0, len(arr) - 1\n",
        "    while low <= high:\n",
        "        mid = (low + high) // 2\n",
        "        if arr[mid] == target:\n",
        "            return mid\n",
        "        elif arr[mid] < target:\n",
        "            low = mid + 1\n",
        "        else:\n",
        "            high = mid - 1\n",
        "    return -1\n",
        "\n",
        "# Input dari pengguna dan hasil pencarian\n",
        "arr = list(map(int, input(\"Masukkan elemen list: \").split()))\n",
        "target = int(input(\"Masukkan elemen yang dicari: \"))\n",
        "\n",
        "sorted_arr = bubble_sort(arr)\n",
        "print(f\"List setelah disortir: {sorted_arr}\")\n",
        "\n",
        "hasil = binary_search(sorted_arr, target)\n",
        "print(f\"Elemen ditemukan di indeks {hasil}\" if hasil != -1 else \"Elemen tidak ditemukan\")"
      ]
    },
    {
      "cell_type": "code",
      "source": [
        "def bubble_sort_recursive(arr, n=None):\n",
        "    # Inisialisasi panjang array jika tidak diberikan\n",
        "    if n is None:\n",
        "        n = len(arr)\n",
        "\n",
        "    # Basis rekursi: jika panjang array hanya satu elemen atau nol\n",
        "    if n <= 1:\n",
        "        return arr\n",
        "\n",
        "    # Proses satu iterasi Bubble Sort (menempatkan elemen terbesar ke posisi akhir)\n",
        "    for i in range(n - 1):\n",
        "        if arr[i] > arr[i + 1]:\n",
        "            arr[i], arr[i + 1] = arr[i + 1], arr[i]\n",
        "\n",
        "    # Rekursif: panggil fungsi dengan array yang lebih pendek (tanpa elemen terakhir)\n",
        "    return bubble_sort_recursive(arr, n - 1)\n",
        "\n",
        "# Contoh penggunaan\n",
        "arr = [64, 34, 25, 12, 22, 11, 90]\n",
        "print(\"Array sebelum disortir:\", arr)\n",
        "sorted_arr = bubble_sort_recursive(arr)\n",
        "print(\"Array setelah disortir:\", sorted_arr)\n"
      ],
      "metadata": {
        "colab": {
          "base_uri": "https://localhost:8080/"
        },
        "id": "QxJKnWw0Sxwd",
        "outputId": "4677a532-59ff-4ce4-fc9a-8aff9f1f70b9"
      },
      "execution_count": 1,
      "outputs": [
        {
          "output_type": "stream",
          "name": "stdout",
          "text": [
            "Array sebelum disortir: [64, 34, 25, 12, 22, 11, 90]\n",
            "Array setelah disortir: [11, 12, 22, 25, 34, 64, 90]\n"
          ]
        }
      ]
    }
  ]
}