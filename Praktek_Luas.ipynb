{
  "nbformat": 4,
  "nbformat_minor": 0,
  "metadata": {
    "colab": {
      "provenance": []
    },
    "kernelspec": {
      "name": "python3",
      "display_name": "Python 3"
    },
    "language_info": {
      "name": "python"
    }
  },
  "cells": [
    {
      "cell_type": "code",
      "source": [
        "print(\"Program Menghitung Luas Ruangan dan Konversi Inci ke Meter\")\n",
        "\n",
        "# Input panjang dalam inci\n",
        "panjang_inci = float(input(\"Masukkan panjang ruangan (dalam inci): \"))\n",
        "# Input lebar dalam inci\n",
        "lebar_inci = float(input(\"Masukkan lebar ruangan (dalam inci): \"))\n",
        "\n",
        "# Konversi inci ke meter\n",
        "panjang_meter = panjang_inci * 0.0254  # 1 inci = 0.0254 meter\n",
        "lebar_meter = lebar_inci * 0.0254      # 1 inci = 0.0254 meter\n",
        "\n",
        "# Hitung luas dalam meter persegi\n",
        "luas_meter = panjang_meter * lebar_meter\n",
        "\n",
        "# Tampilkan hasil konversi dan luas\n",
        "print(f\"Panjang dalam meter: {panjang_meter:.2f} m\")\n",
        "print(f\"Lebar dalam meter: {lebar_meter:.2f} m\")\n",
        "print(f\"Luas ruangan adalah {luas_meter:.2f} meter persegi.\")\n",
        "\n",
        "\n",
        "\n",
        "\n",
        "\n",
        "\n",
        "print(\"Program Menghitung Luas Ruangan dan Konversi Meter ke Inci\")\n",
        "\n",
        "# Input panjang dan lebar dalam meter\n",
        "panjang_meter = float(input(\"Masukkan panjang ruangan (dalam meter): \"))\n",
        "lebar_meter = float(input(\"Masukkan lebar ruangan (dalam meter): \"))\n",
        "\n",
        "# Konversi meter ke inci\n",
        "panjang_inci = panjang_meter * 39.3701  # 1 meter = 39.3701 inci\n",
        "lebar_inci = lebar_meter * 39.3701      # 1 meter = 39.3701 inci\n",
        "\n",
        "# Hitung luas dalam meter persegi\n",
        "luas_meter = panjang_meter * lebar_meter\n",
        "\n",
        "\n",
        "# Tampilkan hasil konversi dan luas\n",
        "print(f\"Panjang dalam inci: {panjang_inci:.2f} inci\")\n",
        "print(f\"Lebar dalam inci: {lebar_inci:.2f} inci\")\n",
        "print(f\"Luas ruangan adalah {luas_meter:.2f} meter persegi.\")\n",
        "\n",
        "\n",
        "\n",
        "\n",
        "\n"
      ],
      "metadata": {
        "colab": {
          "base_uri": "https://localhost:8080/"
        },
        "id": "WYLC8Ia7Neub",
        "outputId": "f5416e49-cdee-41b7-999d-27047acbd8d4"
      },
      "execution_count": null,
      "outputs": [
        {
          "output_type": "stream",
          "name": "stdout",
          "text": [
            "Program Menghitung Luas Ruangan dan Konversi Inci ke Meter\n",
            "Masukkan panjang ruangan (dalam inci): 6\n",
            "Masukkan lebar ruangan (dalam inci): 7\n",
            "Panjang dalam meter: 0.15 m\n",
            "Lebar dalam meter: 0.18 m\n",
            "Luas ruangan adalah 0.03 meter persegi.\n",
            "Program Menghitung Luas Ruangan dan Konversi Meter ke Inci\n",
            "Masukkan panjang ruangan (dalam meter): 6\n",
            "Masukkan lebar ruangan (dalam meter): 7\n",
            "Panjang dalam inci: 236.22 inci\n",
            "Lebar dalam inci: 275.59 inci\n",
            "Luas ruangan adalah 42.00 meter persegi.\n"
          ]
        }
      ]
    },
    {
      "cell_type": "code",
      "source": [
        "]def is_leap_year(year):\n",
        "    \"\"\"Menentukan apakah tahun adalah tahun kabisat.\"\"\"\n",
        "    if (year % 4 == 0 and year % 100 != 0) or (year % 400 == 0):\n",
        "        return True\n",
        "    return False\n",
        "\n",
        "def days_in_month(month, year):\n",
        "    \"\"\"Menentukan jumlah hari dalam bulan tertentu pada tahun tertentu.\"\"\"\n",
        "    if month < 1 or month > 12:\n",
        "        return \"Bulan tidak valid. Masukkan bulan antara 1 dan 12.\"\n",
        "\n",
        "    # Jumlah hari di setiap bulan\n",
        "    days_in_months = {\n",
        "        1: 31, 2: 28, 3: 31, 4: 30,\n",
        "        5: 31, 6: 30, 7: 31, 8: 31,\n",
        "        9: 30, 10: 31, 11: 30, 12: 31\n",
        "    }\n",
        "\n",
        "    # Jika bulan Februari dan tahun kabisat, tambah 1 hari\n",
        "    if month == 2 and is_leap_year(year):\n",
        "        return 29\n",
        "\n",
        "    return days_in_months[month]\n",
        "\n",
        "# Input dari pengguna\n",
        "try:\n",
        "    month = int(input(\"Masukkan bulan (1-12): \"))\n",
        "    year = int(input(\"Masukkan tahun: \"))\n",
        "\n",
        "    days = days_in_month(month, year)\n",
        "    print(f\"Jumlah hari dalam bulan {month} tahun {year} adalah {days}.\")\n",
        "except ValueError:\n",
        "    print(\"Masukkan nilai yang valid untuk bulan dan tahun.\")\n"
      ],
      "metadata": {
        "id": "DqM82s1tPN3a",
        "outputId": "af4417d6-55e4-4bd1-af71-f3a5e69c261a",
        "colab": {
          "base_uri": "https://localhost:8080/"
        }
      },
      "execution_count": 2,
      "outputs": [
        {
          "output_type": "stream",
          "name": "stdout",
          "text": [
            "Masukkan bulan (1-12): 60\n",
            "Masukkan tahun: 4\n",
            "Jumlah hari dalam bulan 60 tahun 4 adalah Bulan tidak valid. Masukkan bulan antara 1 dan 12..\n"
          ]
        }
      ]
    }
  ]
}