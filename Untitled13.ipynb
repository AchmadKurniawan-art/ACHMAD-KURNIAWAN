{
  "nbformat": 4,
  "nbformat_minor": 0,
  "metadata": {
    "colab": {
      "provenance": []
    },
    "kernelspec": {
      "name": "python3",
      "display_name": "Python 3"
    },
    "language_info": {
      "name": "python"
    }
  },
  "cells": [
    {
      "cell_type": "code",
      "source": [
        "def hitung_nilai():\n",
        "  nilai = 0\n",
        "  counter = 0\n",
        "\n",
        "  while True:\n",
        "    grade = input('masukkan grade: ')\n",
        "\n",
        "    if grade == 'A':\n",
        "        counter += 1\n",
        "        nilai += 4.00\n",
        "    elif grade == 'A-':\n",
        "        counter += 1\n",
        "        nilai += 3.75\n",
        "    elif grade == 'B+':\n",
        "        counter += 1\n",
        "        nilai += 3.50\n",
        "    elif grade == 'B':\n",
        "        counter += 1\n",
        "        nilai += 3.00\n",
        "    elif grade == 'B-':\n",
        "        counter += 1\n",
        "        nilai += 2.75\n",
        "    elif grade == 'C+':\n",
        "        counter += 1\n",
        "        nilai += 2.50\n",
        "    elif grade == 'C':\n",
        "        counter += 1\n",
        "        nilai += 2.00\n",
        "    elif grade == 'C-':\n",
        "        counter += 1\n",
        "        nilai += 1.75\n",
        "    elif grade == 'D':\n",
        "        counter += 1\n",
        "        nilai += 1.50\n",
        "    elif grade == 'E':\n",
        "        counter += 1\n",
        "        nilai += 1.25\n",
        "    else:\n",
        "        if counter > 0:  # Pastikan counter tidak nol untuk menghindari pembagian dengan nol\n",
        "            hasil = nilai / counter\n",
        "            print(f'Nilai rata-rata: {hasil:.2f}')\n",
        "        else:\n",
        "            print('Tidak ada grade yang dimasukkan.')\n",
        "        break\n",
        "hitung_nilai()"
      ],
      "metadata": {
        "colab": {
          "base_uri": "https://localhost:8080/"
        },
        "id": "eOo1_lB_yUPr",
        "outputId": "8809bfbf-3232-4fa4-f87a-4d6ec14b9079"
      },
      "execution_count": null,
      "outputs": [
        {
          "output_type": "stream",
          "name": "stdout",
          "text": [
            "masukkan grade: A\n",
            "masukkan grade: B\n",
            "masukkan grade: C\n",
            "masukkan grade: \n",
            "Nilai rata-rata: 3.00\n"
          ]
        }
      ]
    }
  ]
}