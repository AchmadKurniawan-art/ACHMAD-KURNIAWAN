{
  "nbformat": 4,
  "nbformat_minor": 0,
  "metadata": {
    "colab": {
      "provenance": []
    },
    "kernelspec": {
      "name": "python3",
      "display_name": "Python 3"
    },
    "language_info": {
      "name": "python"
    }
  },
  "cells": [
    {
      "cell_type": "code",
      "source": [
        "nama=(input(\"masukkan nama\\n\"))\n",
        "umur=(input(\"masukkan umur\\n\"))\n",
        "alamat=(input(\"masukkan alamat\\n\"))\n",
        "email=(input(\"masukkan email\\n\"))\n",
        "dosen_wali=(input(\"masukkan dosen_wali\\n\"))\n",
        "\n",
        "with open(\"Biodata.txt\", \"w\") as file:\n",
        "  file.write(f\"nama saya{nama}\\n\")\n",
        "  file.write(f\"masukkan umur{umur}\\n\")\n",
        "  file.write(f\"masukkan alamat{alamat}\\n\")\n",
        "  file.write(f\"masukkan email{email}\\n\")\n",
        "  file.write(f\"masukkan dosen_wali{dosen_wali}\\n\")\n",
        "\n",
        "with open(\"Biodata.txt\",\"r\") as file:\n",
        "  print(file.read())\n",
        "\n",
        "file.close()\n"
      ],
      "metadata": {
        "id": "RLbk5Ek_6nUw",
        "colab": {
          "base_uri": "https://localhost:8080/"
        },
        "outputId": "aba8fc51-9258-4b31-b76c-d3a000ac314e"
      },
      "execution_count": null,
      "outputs": [
        {
          "output_type": "stream",
          "name": "stdout",
          "text": [
            "masukkan nama\n",
            "achmad kurniawan\n",
            "masukkan umur\n",
            "18\n",
            "masukkan alamat\n",
            "jl bakti\n",
            "masukkan email\n",
            "kurniawanachmad072@gmail.com\n",
            "masukkan dosen_wali\n",
            "bu binti\n",
            "nama sayaachmad kurniawan\n",
            "masukkan umur18\n",
            "masukkan alamatjl bakti\n",
            "masukkan emailkurniawanachmad072@gmail.com\n",
            "masukkan dosen_walibu binti\n",
            "\n"
          ]
        }
      ]
    },
    {
      "cell_type": "code",
      "source": [
        "print(\"=== Program Biodata File Manager ===\")\n",
        "\n",
        "while True:\n",
        "    print(\"\\nMenu:\")\n",
        "    print(\"1. Buat file biodata baru\")\n",
        "    print(\"2. Baca isi file biodata\")\n",
        "    print(\"3. Tambahkan teks ke file biodata\")\n",
        "    print(\"4. Keluar\")\n",
        "\n",
        "    pilihan = input(\"Pilih menu (1/2/3/4): \")\n",
        "\n",
        "    if pilihan == '1':\n",
        "        nama_file = input(\"Masukkan nama file (contoh: Biodata.txt): \")\n",
        "        print(\"\\n=== Masukkan Data Biodata ===\")\n",
        "        nama = input(\"Masukkan nama:\\n\")\n",
        "        umur = input(\"Masukkan umur:\\n\")\n",
        "        alamat = input(\"Masukkan alamat:\\n\")\n",
        "        email = input(\"Masukkan email:\\n\")\n",
        "        dosen_wali = input(\"Masukkan dosen wali:\\n\")\n",
        "\n",
        "        try:\n",
        "            with open(nama_file, \"w\") as file:\n",
        "                file.write(f\"Nama: {nama}\\n\")\n",
        "                file.write(f\"Umur: {umur}\\n\")\n",
        "                file.write(f\"Alamat: {alamat}\\n\")\n",
        "                file.write(f\"Email: {email}\\n\")\n",
        "                file.write(f\"Dosen Wali: {dosen_wali}\\n\")\n",
        "            print(f\"File '{nama_file}' berhasil dibuat.\")\n",
        "        except Exception as e:\n",
        "            print(f\"Terjadi kesalahan saat membuat file: {e}\")\n",
        "\n",
        "    elif pilihan == '2':\n",
        "        nama_file = input(\"Masukkan nama file yang ingin dibaca: \")\n",
        "        try:\n",
        "            with open(nama_file, \"r\") as file:\n",
        "                isi = file.read()\n",
        "            print(f\"\\nIsi file '{nama_file}':\\n{isi}\")\n",
        "        except FileNotFoundError:\n",
        "            print(f\"File '{nama_file}' tidak ditemukan. Silakan buat file terlebih dahulu.\")\n",
        "        except Exception as e:\n",
        "            print(f\"Terjadi kesalahan saat membaca file: {e}\")\n",
        "\n",
        "    elif pilihan == '3':\n",
        "        nama_file = input(\"Masukkan nama file yang ingin ditambahkan teks: \")\n",
        "        teks = input(\"Masukkan teks tambahan:\\n\")\n",
        "        try:\n",
        "            with open(nama_file, \"a\") as file:\n",
        "                file.write(teks + '\\n')\n",
        "            print(f\"Teks berhasil ditambahkan ke file '{nama_file}'.\")\n",
        "        except Exception as e:\n",
        "            print(f\"Terjadi kesalahan saat menambahkan teks: {e}\")\n",
        "\n",
        "    elif pilihan == '4':\n",
        "        print(\"Program dihentikan. Terima kasih telah menggunakan Biodata File Manager.\")\n",
        "        break\n",
        "\n",
        "    else:\n",
        "        print(\"Pilihan tidak valid. Silakan coba lagi.\")\n"
      ],
      "metadata": {
        "id": "5x6kgyZI-tjg",
        "colab": {
          "base_uri": "https://localhost:8080/"
        },
        "outputId": "0a56e741-58ee-4486-fe6e-79003529055a"
      },
      "execution_count": 4,
      "outputs": [
        {
          "output_type": "stream",
          "name": "stdout",
          "text": [
            "=== Program Biodata File Manager ===\n",
            "\n",
            "Menu:\n",
            "1. Buat file biodata baru\n",
            "2. Baca isi file biodata\n",
            "3. Tambahkan teks ke file biodata\n",
            "4. Keluar\n",
            "Pilih menu (1/2/3/4): 1\n",
            "Masukkan nama file (contoh: Biodata.txt): bio.txt\n",
            "\n",
            "=== Masukkan Data Biodata ===\n",
            "Masukkan nama:\n",
            "ACHMAD KURNIAWAN\n",
            "Masukkan umur:\n",
            "18\n",
            "Masukkan alamat:\n",
            "JL BAKTI\n",
            "Masukkan email:\n",
            "kurni@gmail.com\n",
            "Masukkan dosen wali:\n",
            "bu binti\n",
            "File 'bio.txt' berhasil dibuat.\n",
            "\n",
            "Menu:\n",
            "1. Buat file biodata baru\n",
            "2. Baca isi file biodata\n",
            "3. Tambahkan teks ke file biodata\n",
            "4. Keluar\n",
            "Pilih menu (1/2/3/4): 4\n",
            "Program dihentikan. Terima kasih telah menggunakan Biodata File Manager.\n"
          ]
        }
      ]
    }
  ]
}