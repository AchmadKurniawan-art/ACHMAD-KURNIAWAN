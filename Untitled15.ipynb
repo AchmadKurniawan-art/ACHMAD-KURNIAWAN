{
  "nbformat": 4,
  "nbformat_minor": 0,
  "metadata": {
    "colab": {
      "provenance": []
    },
    "kernelspec": {
      "name": "python3",
      "display_name": "Python 3"
    },
    "language_info": {
      "name": "python"
    }
  },
  "cells": [
    {
      "cell_type": "code",
      "execution_count": null,
      "metadata": {
        "colab": {
          "base_uri": "https://localhost:8080/"
        },
        "id": "gH9Jyyw_3r5J",
        "outputId": "490ff13e-b171-49a7-cc03-118d386ccfdb"
      },
      "outputs": [
        {
          "output_type": "stream",
          "name": "stdout",
          "text": [
            "Masukkan Jumlah: 2\n",
            "Masukkan angka ke-1: 2\n",
            "Masukkan angka ke-2: 3\n",
            "Hasil penjumlahan: 5\n"
          ]
        }
      ],
      "source": [
        "def penjumlahan_rekursif(jumlah, angka_list=None):\n",
        "\n",
        "    if jumlah == 0:\n",
        "        return 0\n",
        "\n",
        "    if angka_list is None:\n",
        "        angka_list = []\n",
        "\n",
        "\n",
        "    angka = int(input(f\"Masukkan angka ke-{len(angka_list)+1}: \"))\n",
        "    angka_list.append(angka)\n",
        "\n",
        "\n",
        "    return angka + penjumlahan_rekursif(jumlah-1, angka_list)\n",
        "\n",
        "\n",
        "jumlah = int(input(\"Masukkan Jumlah: \"))\n",
        "\n",
        "\n",
        "hasil = penjumlahan_rekursif(jumlah)\n",
        "print(f\"Hasil penjumlahan: {hasil}\")\n"
      ]
    },
    {
      "cell_type": "code",
      "source": [
        "def power(base, exponent):\n",
        "\n",
        "    if exponent == 0:\n",
        "        return 1\n",
        "\n",
        "    else:\n",
        "        return base * power(base, exponent - 1)\n",
        "\n",
        "\n",
        "base = int(input(\"Masukkan base number: \"))\n",
        "exponent = int(input(\"Masukkan power: \"))\n",
        "print(\"Hasil:\", power(base, exponent))\n"
      ],
      "metadata": {
        "colab": {
          "base_uri": "https://localhost:8080/"
        },
        "id": "TG9McvQ5X94u",
        "outputId": "c4e91275-78b6-4f72-da8c-ad1c578cc785"
      },
      "execution_count": null,
      "outputs": [
        {
          "output_type": "stream",
          "name": "stdout",
          "text": [
            "Masukkan base number: 4\n",
            "Masukkan power: 5\n",
            "Hasil: 1024\n"
          ]
        }
      ]
    }
  ]
}