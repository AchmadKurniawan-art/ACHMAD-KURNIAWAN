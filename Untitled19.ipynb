{
  "nbformat": 4,
  "nbformat_minor": 0,
  "metadata": {
    "colab": {
      "provenance": []
    },
    "kernelspec": {
      "name": "python3",
      "display_name": "Python 3"
    },
    "language_info": {
      "name": "python"
    }
  },
  "cells": [
    {
      "cell_type": "code",
      "source": [
        "import pandas as pd\n",
        "\n",
        "# Load data dari file CSV\n",
        "file_path = 'Achmad Kurniawan - Negara.csv'  # Ganti dengan nama file Anda\n",
        "db = pd.read_csv(file_path)\n",
        "\n",
        "# Hitung rata-rata dan standar deviasi populasi berdasarkan negara\n",
        "mean_populasi = db.groupby('Negara')['Populasi'].mean()\n",
        "std_populasi = db.groupby('Negara')['Populasi'].std()\n",
        "\n",
        "# Tampilkan data asli\n",
        "print(\"\\nData Asli:\")\n",
        "print(db)\n",
        "\n",
        "# Tampilkan rata-rata populasi\n",
        "print(\"\\nRata-rata Populasi per Negara:\")\n",
        "print(mean_populasi)\n",
        "\n",
        "# Tampilkan standar deviasi populasi\n",
        "print(\"\\nStandar Deviasi Populasi per Negara:\")\n",
        "print(std_populasi)\n"
      ],
      "metadata": {
        "id": "BCPTFIcQ9Obn",
        "outputId": "7cbbd1d5-2f48-4f25-ea51-5cf52de475bf",
        "colab": {
          "base_uri": "https://localhost:8080/"
        }
      },
      "execution_count": null,
      "outputs": [
        {
          "output_type": "stream",
          "name": "stdout",
          "text": [
            "\n",
            "Data Asli:\n",
            "             Negara       Ibu Kota    Benua   Luas  Populasi\n",
            "0         Indonesia        Jakarta     Asia   1905       264\n",
            "1            Jepang          Tokyo     Asia    377       143\n",
            "2             India      New Delhi     Asia   3287      1252\n",
            "3             China        Beijing     Asia   9597      1357\n",
            "4   Amerika Serikat  Washington DC  Amerika   9834       329\n",
            "5            Brazil       Brazilia  Amerika   8515       210\n",
            "6             Rusia         Moskow     Asia  17098       146\n",
            "7           Meksiko   Meksiko City  Amerika   1964       126\n",
            "8           Nigeria          Abuja   Afrika    923       200\n",
            "9            Jerman         Berlin    Eropa    357        83\n",
            "10         Aljazair       Aljazair   Afrika   2381        43\n",
            "11          Inggris         London    Eropa    242        66\n",
            "\n",
            "Rata-rata Populasi per Negara:\n",
            "Negara\n",
            "Aljazair             43.0\n",
            "Amerika Serikat     329.0\n",
            "Brazil              210.0\n",
            "China              1357.0\n",
            "India              1252.0\n",
            "Indonesia           264.0\n",
            "Inggris              66.0\n",
            "Jepang              143.0\n",
            "Jerman               83.0\n",
            "Meksiko             126.0\n",
            "Nigeria             200.0\n",
            "Rusia               146.0\n",
            "Name: Populasi, dtype: float64\n",
            "\n",
            "Standar Deviasi Populasi per Negara:\n",
            "Negara\n",
            "Aljazair          NaN\n",
            "Amerika Serikat   NaN\n",
            "Brazil            NaN\n",
            "China             NaN\n",
            "India             NaN\n",
            "Indonesia         NaN\n",
            "Inggris           NaN\n",
            "Jepang            NaN\n",
            "Jerman            NaN\n",
            "Meksiko           NaN\n",
            "Nigeria           NaN\n",
            "Rusia             NaN\n",
            "Name: Populasi, dtype: float64\n"
          ]
        }
      ]
    }
  ]
}