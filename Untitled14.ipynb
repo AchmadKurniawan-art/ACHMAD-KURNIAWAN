{
  "nbformat": 4,
  "nbformat_minor": 0,
  "metadata": {
    "colab": {
      "provenance": []
    },
    "kernelspec": {
      "name": "python3",
      "display_name": "Python 3"
    },
    "language_info": {
      "name": "python"
    }
  },
  "cells": [
    {
      "cell_type": "code",
      "execution_count": null,
      "metadata": {
        "colab": {
          "base_uri": "https://localhost:8080/"
        },
        "id": "5wKvsGXrpjVx",
        "outputId": "758da1ba-7eac-4966-c22f-46bb9005e05f"
      },
      "outputs": [
        {
          "output_type": "stream",
          "name": "stdout",
          "text": [
            "None\n",
            "None\n",
            "False\n",
            "None\n"
          ]
        }
      ],
      "source": [
        "def bil_prima (x):\n",
        "  for i in range(2, x):\n",
        "    if x % i == 0:\n",
        "      return False\n",
        "      return True\n",
        "\n",
        "\n"
      ]
    },
    {
      "cell_type": "code",
      "source": [
        "number = int(input(\"Masukkan bilangan: \"))\n",
        "def prima(number):\n",
        "    if number < 1:\n",
        "        return False\n",
        "    for i in range(2, int(number**0.5) + 1):\n",
        "        if number % i == 0:\n",
        "            return False\n",
        "    return True\n",
        "def result(number):\n",
        "  if prima(number):\n",
        "    print(f\"{number} adalah bilangan prima.\")\n",
        "  else:\n",
        "    print(f\"{number} bukan bilangan prima.\")\n",
        "result(number)\n"
      ],
      "metadata": {
        "colab": {
          "base_uri": "https://localhost:8080/"
        },
        "id": "0xfKJHM2saM8",
        "outputId": "488dabca-9ae1-436a-ace3-23302e29a08e"
      },
      "execution_count": null,
      "outputs": [
        {
          "output_type": "stream",
          "name": "stdout",
          "text": [
            "Masukkan bilangan: 3\n",
            "3 adalah bilangan prima.\n"
          ]
        }
      ]
    },
    {
      "cell_type": "code",
      "source": [
        "def ordinal_suffix(number):\n",
        "    # Cek aturan khusus untuk angka yang diakhiri dengan 11, 12, atau 13\n",
        "    if 10 <= number % 100 <= 13:\n",
        "        suffix = \"th\"\n",
        "    else:\n",
        "        # Tentukan akhiran berdasarkan digit terakhir\n",
        "        last_digit = number % 10\n",
        "        if last_digit == 1:\n",
        "            suffix = \"st\"\n",
        "        elif last_digit == 2:\n",
        "            suffix = \"nd\"\n",
        "        elif last_digit == 3:\n",
        "            suffix = \"rd\"\n",
        "        else:\n",
        "            suffix = \"th\"\n",
        "    return f\"{number}{suffix}\"\n",
        "\n",
        "# Fungsi utama untuk menampilkan output\n",
        "def display_ordinal(number):\n",
        "    print(f\"{number} // Input\")\n",
        "    print(f\"{ordinal_suffix(number)} // Output\")\n",
        "\n",
        "# Contoh penggunaan\n",
        "for num in range(1, 21):  # Ubah range ini sesuai keinginan\n",
        "    display_ordinal(num)\n"
      ],
      "metadata": {
        "id": "WeO5jsNSHd4Q"
      },
      "execution_count": null,
      "outputs": []
    }
  ]
}